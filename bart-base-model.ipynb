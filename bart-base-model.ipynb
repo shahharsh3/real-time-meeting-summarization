{
 "cells": [
  {
   "cell_type": "code",
   "execution_count": 1,
   "metadata": {
    "scrolled": true
   },
   "outputs": [],
   "source": [
    "# pip install -r requirements.txt"
   ]
  },
  {
   "cell_type": "code",
   "execution_count": 3,
   "metadata": {
    "colab": {
     "base_uri": "https://localhost:8080/"
    },
    "id": "QDClwL5BdosC",
    "outputId": "8a4f3f7e-1532-4cc4-898f-f773095ef96d"
   },
   "outputs": [
    {
     "name": "stderr",
     "output_type": "stream",
     "text": [
      "[nltk_data] Downloading package punkt to /home/deepanshu/nltk_data...\n",
      "[nltk_data]   Package punkt is already up-to-date!\n",
      "[nltk_data] Downloading package punkt_tab to\n",
      "[nltk_data]     /home/deepanshu/nltk_data...\n",
      "[nltk_data]   Package punkt_tab is already up-to-date!\n"
     ]
    },
    {
     "data": {
      "text/plain": [
       "True"
      ]
     },
     "execution_count": 3,
     "metadata": {},
     "output_type": "execute_result"
    }
   ],
   "source": [
    "import warnings\n",
    "warnings.filterwarnings('ignore')\n",
    "import json\n",
    "import pandas as pd\n",
    "import re\n",
    "import string\n",
    "from spellchecker import SpellChecker\n",
    "import json\n",
    "from collections import Counter\n",
    "from textstat import textstat\n",
    "import numpy as np\n",
    "import matplotlib.pyplot as plt\n",
    "import json\n",
    "from sklearn.linear_model import Ridge\n",
    "from sklearn.svm import SVR\n",
    "from sklearn.feature_selection import SelectFromModel\n",
    "from transformers import T5ForConditionalGeneration, T5Tokenizer\n",
    "import torch\n",
    "from nltk.translate.bleu_score import sentence_bleu\n",
    "from nltk.translate.meteor_score import meteor_score\n",
    "from rouge import Rouge\n",
    "import os\n",
    "from transformers import AutoTokenizer, AutoModelForSeq2SeqLM\n",
    "from datasets import concatenate_datasets\n",
    "import evaluate\n",
    "from transformers import DataCollatorForSeq2Seq\n",
    "from huggingface_hub import HfFolder\n",
    "from transformers import Seq2SeqTrainer, Seq2SeqTrainingArguments\n",
    "from transformers import pipeline\n",
    "from random import randrange\n",
    "from nltk.tokenize import sent_tokenize\n",
    "from transformers import BartTokenizer, BartForConditionalGeneration, Trainer, TrainingArguments\n",
    "from torch.utils.data import Dataset\n",
    "import torch\n",
    "\n",
    "\n",
    "# Download necessary NLTK data\n",
    "nltk.download('punkt')\n",
    "nltk.download('punkt_tab')\n",
    "# nltk.download('all')"
   ]
  },
  {
   "cell_type": "code",
   "execution_count": 4,
   "metadata": {},
   "outputs": [],
   "source": [
    "root_path = 'corpus/'\n",
    "path='corpus/data-processing/'"
   ]
  },
  {
   "cell_type": "code",
   "execution_count": 5,
   "metadata": {},
   "outputs": [],
   "source": [
    "# Load the dataset\n",
    "with open(root_path + 'train.json', 'r', encoding='utf-8') as f:\n",
    "    train_data = json.load(f)\n",
    "with open(root_path + 'test.json', 'r', encoding='utf-8') as f:\n",
    "    test_data = json.load(f)\n",
    "with open(root_path + 'val.json', 'r', encoding='utf-8') as f:\n",
    "    eval_data = json.load(f)\n",
    "\n",
    "# Convert to DataFrames\n",
    "train_df = pd.DataFrame(train_data)\n",
    "test_df = pd.DataFrame(test_data)\n",
    "eval_df = pd.DataFrame(eval_data)\n",
    "\n",
    "# Combine all three into one\n",
    "# full_df = pd.concat([train_df, eval_df], ignore_index=True)"
   ]
  },
  {
   "cell_type": "code",
   "execution_count": 6,
   "metadata": {},
   "outputs": [],
   "source": [
    "with open(root_path + 'train.json', 'r', encoding='utf-8') as f:\n",
    "    processed_dialogues = json.load(f)"
   ]
  },
  {
   "cell_type": "code",
   "execution_count": 7,
   "metadata": {},
   "outputs": [],
   "source": [
    "class SummaryDataset(Dataset):\n",
    "    # Initialize the dataset with a tokenizer, data, and maximum token length\n",
    "    def __init__(self, tokenizer, data, max_length=512):\n",
    "        self.tokenizer = tokenizer  # Tokenizer for encoding text\n",
    "        self.data = data            # Data containing dialogues and summaries\n",
    "        self.max_length = max_length # Maximum length of tokens\n",
    "\n",
    "    # Return the number of items in the dataset\n",
    "    def __len__(self):\n",
    "        return len(self.data)\n",
    "\n",
    "    # Retrieve an item from the dataset by index\n",
    "    def __getitem__(self, idx):\n",
    "        item = self.data.iloc[idx]  # Get the row at the specified index\n",
    "        dialogue = item['dialogue'] # Extract dialogue from the row\n",
    "        summary = item['summary']   # Extract summary from the row\n",
    "\n",
    "        # Encode the dialogue as input data for the model\n",
    "        source = self.tokenizer.encode_plus(\n",
    "            dialogue, \n",
    "            max_length=self.max_length, \n",
    "            padding='max_length', \n",
    "            return_tensors='pt', \n",
    "            truncation=True\n",
    "        )\n",
    "\n",
    "        # Encode the summary as target data for the model\n",
    "        target = self.tokenizer.encode_plus(\n",
    "            summary, \n",
    "            max_length=self.max_length, \n",
    "            padding='max_length', \n",
    "            return_tensors='pt', \n",
    "            truncation=True\n",
    "        )\n",
    "\n",
    "        # Return a dictionary containing input_ids, attention_mask, labels, and the original summary text\n",
    "        return {\n",
    "            'input_ids': source['input_ids'].flatten(),\n",
    "            'attention_mask': source['attention_mask'].flatten(),\n",
    "            'labels': target['input_ids'].flatten(),\n",
    "            'summary': summary \n",
    "        }"
   ]
  },
  {
   "cell_type": "code",
   "execution_count": 8,
   "metadata": {},
   "outputs": [],
   "source": [
    "model_id='facebook/bart-base'\n",
    "\n",
    "# Initialize the tokenizer for BART\n",
    "tokenizer = BartTokenizer.from_pretrained(model_id)\n",
    "\n",
    "# Initialize the BART model for conditional generation\n",
    "model = BartForConditionalGeneration.from_pretrained(model_id)"
   ]
  },
  {
   "cell_type": "code",
   "execution_count": 9,
   "metadata": {},
   "outputs": [],
   "source": [
    "# Creating an instance of the SummaryDataset class for training data\n",
    "train_dataset = SummaryDataset(tokenizer, train_df)\n",
    "\n",
    "# Creating an instance of the SummaryDataset class for validation data\n",
    "valid_dataset = SummaryDataset(tokenizer, test_df)"
   ]
  },
  {
   "cell_type": "code",
   "execution_count": 12,
   "metadata": {},
   "outputs": [],
   "source": [
    "training_args = TrainingArguments(\n",
    "    output_dir=path+'/bart/results',\n",
    "    num_train_epochs=10,\n",
    "    per_device_train_batch_size=8,\n",
    "    per_device_eval_batch_size=8,\n",
    "    warmup_steps=500,\n",
    "    weight_decay=0.01, \n",
    "    learning_rate=5e-5,\n",
    "    logging_dir=path+'/bart/logs',\n",
    "    logging_steps=500,\n",
    "    # evaluation_strategy=\"epoch\",\n",
    "    save_strategy=\"epoch\",\n",
    "    # save_total_limit=2,\n",
    "    # load_best_model_at_end=True,\n",
    "    report_to=\"none\",\n",
    ")\n",
    "\n",
    "# Initializing the Trainer object\n",
    "trainer = Trainer(\n",
    "    model=model,             \n",
    "    args=training_args,\n",
    "    train_dataset=train_dataset,\n",
    "    eval_dataset=valid_dataset\n",
    ")"
   ]
  },
  {
   "cell_type": "code",
   "execution_count": 13,
   "metadata": {},
   "outputs": [
    {
     "data": {
      "text/html": [
       "\n",
       "    <div>\n",
       "      \n",
       "      <progress value='9210' max='9210' style='width:300px; height:20px; vertical-align: middle;'></progress>\n",
       "      [9210/9210 55:03, Epoch 10/10]\n",
       "    </div>\n",
       "    <table border=\"1\" class=\"dataframe\">\n",
       "  <thead>\n",
       " <tr style=\"text-align: left;\">\n",
       "      <th>Step</th>\n",
       "      <th>Training Loss</th>\n",
       "    </tr>\n",
       "  </thead>\n",
       "  <tbody>\n",
       "    <tr>\n",
       "      <td>500</td>\n",
       "      <td>2.047100</td>\n",
       "    </tr>\n",
       "    <tr>\n",
       "      <td>1000</td>\n",
       "      <td>0.099200</td>\n",
       "    </tr>\n",
       "    <tr>\n",
       "      <td>1500</td>\n",
       "      <td>0.087900</td>\n",
       "    </tr>\n",
       "    <tr>\n",
       "      <td>2000</td>\n",
       "      <td>0.082300</td>\n",
       "    </tr>\n",
       "    <tr>\n",
       "      <td>2500</td>\n",
       "      <td>0.075200</td>\n",
       "    </tr>\n",
       "    <tr>\n",
       "      <td>3000</td>\n",
       "      <td>0.071700</td>\n",
       "    </tr>\n",
       "    <tr>\n",
       "      <td>3500</td>\n",
       "      <td>0.066600</td>\n",
       "    </tr>\n",
       "    <tr>\n",
       "      <td>4000</td>\n",
       "      <td>0.062300</td>\n",
       "    </tr>\n",
       "    <tr>\n",
       "      <td>4500</td>\n",
       "      <td>0.060200</td>\n",
       "    </tr>\n",
       "    <tr>\n",
       "      <td>5000</td>\n",
       "      <td>0.054900</td>\n",
       "    </tr>\n",
       "    <tr>\n",
       "      <td>5500</td>\n",
       "      <td>0.054000</td>\n",
       "    </tr>\n",
       "    <tr>\n",
       "      <td>6000</td>\n",
       "      <td>0.049600</td>\n",
       "    </tr>\n",
       "    <tr>\n",
       "      <td>6500</td>\n",
       "      <td>0.049100</td>\n",
       "    </tr>\n",
       "    <tr>\n",
       "      <td>7000</td>\n",
       "      <td>0.045300</td>\n",
       "    </tr>\n",
       "    <tr>\n",
       "      <td>7500</td>\n",
       "      <td>0.044700</td>\n",
       "    </tr>\n",
       "    <tr>\n",
       "      <td>8000</td>\n",
       "      <td>0.042700</td>\n",
       "    </tr>\n",
       "    <tr>\n",
       "      <td>8500</td>\n",
       "      <td>0.041100</td>\n",
       "    </tr>\n",
       "    <tr>\n",
       "      <td>9000</td>\n",
       "      <td>0.040500</td>\n",
       "    </tr>\n",
       "  </tbody>\n",
       "</table><p>"
      ],
      "text/plain": [
       "<IPython.core.display.HTML object>"
      ]
     },
     "metadata": {},
     "output_type": "display_data"
    },
    {
     "data": {
      "text/plain": [
       "TrainOutput(global_step=9210, training_loss=0.1678181054926074, metrics={'train_runtime': 3303.7409, 'train_samples_per_second': 44.592, 'train_steps_per_second': 2.788, 'total_flos': 4.49131875139584e+16, 'train_loss': 0.1678181054926074, 'epoch': 10.0})"
      ]
     },
     "execution_count": 13,
     "metadata": {},
     "output_type": "execute_result"
    }
   ],
   "source": [
    "# Starting the training process\n",
    "trainer.train()"
   ]
  },
  {
   "cell_type": "code",
   "execution_count": 14,
   "metadata": {},
   "outputs": [
    {
     "data": {
      "image/png": "[encoded data removed]",
      "text/plain": [
       "<Figure size 640x480 with 1 Axes>"
      ]
     },
     "metadata": {},
     "output_type": "display_data"
    }
   ],
   "source": [
    "import json\n",
    "import matplotlib.pyplot as plt\n",
    "\n",
    "# Load the trainer_state.json\n",
    "with open(path+'/bart/results/checkpoint-3684/trainer_state.json', 'r') as f:\n",
    "    trainer_state = json.load(f)\n",
    "\n",
    "# Extract logs\n",
    "logs = trainer_state['log_history']\n",
    "\n",
    "# Separate the values\n",
    "steps = []\n",
    "losses = []\n",
    "eval_losses = []\n",
    "\n",
    "for log in logs:\n",
    "    if 'loss' in log:\n",
    "        steps.append(log['step'])\n",
    "        losses.append(log['loss'])\n",
    "    if 'eval_loss' in log:\n",
    "        eval_losses.append((log['step'], log['eval_loss']))\n",
    "\n",
    "# Plot training loss\n",
    "plt.plot(steps, losses, label='Training Loss')\n",
    "if eval_losses:\n",
    "    eval_steps, eval_vals = zip(*eval_losses)\n",
    "    plt.plot(eval_steps, eval_vals, label='Validation Loss')\n",
    "plt.xlabel('Steps')\n",
    "plt.ylabel('Loss')\n",
    "plt.legend()\n",
    "plt.title('Training and Validation Loss')\n",
    "plt.show()\n"
   ]
  },
  {
   "cell_type": "code",
   "execution_count": 17,
   "metadata": {
    "scrolled": true
   },
   "outputs": [
    {
     "name": "stderr",
     "output_type": "stream",
     "text": [
      "Downloading builder script: 100%|███████████████████████████████████████████████████████████████████████████████████████████████████████████████████████| 6.27k/6.27k [00:00<00:00, 9.46MB/s]\n"
     ]
    },
    {
     "name": "stdout",
     "output_type": "stream",
     "text": [
      "Processing 1/103\n",
      "Processing 2/103\n",
      "Processing 3/103\n",
      "Processing 4/103\n",
      "Processing 5/103\n",
      "Processing 6/103\n",
      "Processing 7/103\n",
      "Processing 8/103\n",
      "Processing 9/103\n",
      "Processing 10/103\n",
      "Processing 11/103\n",
      "Processing 12/103\n",
      "Processing 13/103\n",
      "Processing 14/103\n",
      "Processing 15/103\n",
      "Processing 16/103\n",
      "Processing 17/103\n",
      "Processing 18/103\n",
      "Processing 19/103\n",
      "Processing 20/103\n",
      "Processing 21/103\n",
      "Processing 22/103\n",
      "Processing 23/103\n",
      "Processing 24/103\n",
      "Processing 25/103\n",
      "Processing 26/103\n",
      "Processing 27/103\n",
      "Processing 28/103\n",
      "Processing 29/103\n",
      "Processing 30/103\n",
      "Processing 31/103\n",
      "Processing 32/103\n",
      "Processing 33/103\n",
      "Processing 34/103\n",
      "Processing 35/103\n",
      "Processing 36/103\n",
      "Processing 37/103\n",
      "Processing 38/103\n",
      "Processing 39/103\n",
      "Processing 40/103\n",
      "Processing 41/103\n",
      "Processing 42/103\n",
      "Processing 43/103\n",
      "Processing 44/103\n",
      "Processing 45/103\n",
      "Processing 46/103\n",
      "Processing 47/103\n",
      "Processing 48/103\n",
      "Processing 49/103\n",
      "Processing 50/103\n",
      "Processing 51/103\n",
      "Processing 52/103\n",
      "Processing 53/103\n",
      "Processing 54/103\n",
      "Processing 55/103\n",
      "Processing 56/103\n",
      "Processing 57/103\n",
      "Processing 58/103\n",
      "Processing 59/103\n",
      "Processing 60/103\n",
      "Processing 61/103\n",
      "Processing 62/103\n",
      "Processing 63/103\n",
      "Processing 64/103\n",
      "Processing 65/103\n",
      "Processing 66/103\n",
      "Processing 67/103\n",
      "Processing 68/103\n",
      "Processing 69/103\n",
      "Processing 70/103\n",
      "Processing 71/103\n",
      "Processing 72/103\n",
      "Processing 73/103\n",
      "Processing 74/103\n",
      "Processing 75/103\n",
      "Processing 76/103\n",
      "Processing 77/103\n",
      "Processing 78/103\n",
      "Processing 79/103\n",
      "Processing 80/103\n",
      "Processing 81/103\n",
      "Processing 82/103\n",
      "Processing 83/103\n",
      "Processing 84/103\n",
      "Processing 85/103\n",
      "Processing 86/103\n",
      "Processing 87/103\n",
      "Processing 88/103\n",
      "Processing 89/103\n",
      "Processing 90/103\n",
      "Processing 91/103\n",
      "Processing 92/103\n",
      "Processing 93/103\n",
      "Processing 94/103\n",
      "Processing 95/103\n",
      "Processing 96/103\n",
      "Processing 97/103\n",
      "Processing 98/103\n",
      "Processing 99/103\n",
      "Processing 100/103\n",
      "Processing 101/103\n",
      "Processing 102/103\n",
      "Processing 103/103\n",
      "{'rouge1': 0.5019656643002273, 'rouge2': 0.2566959850606548, 'rougeL': 0.4133662737551117, 'rougeLsum': 0.41303045162384966}\n"
     ]
    }
   ],
   "source": [
    "# from datasets import load_metric\n",
    "from torch.utils.data import DataLoader\n",
    "\n",
    "# Load the ROUGE metric for evaluation\n",
    "rouge = evaluate.load(\"rouge\")\n",
    "\n",
    "def generate_summaries(model, tokenizer, dataset, batch_size=8):\n",
    "    \"\"\"\n",
    "    Generate summaries using the provided model and tokenizer on the given dataset.\n",
    "\n",
    "    Args:\n",
    "        model: The trained summarization model.\n",
    "        tokenizer: Tokenizer associated with the model.\n",
    "        dataset: Dataset for which summaries need to be generated.\n",
    "        batch_size: Number of data samples to process in each batch.\n",
    "\n",
    "    Returns:\n",
    "        summaries: Generated summaries by the model.\n",
    "        references: Actual summaries from the dataset for comparison.\n",
    "    \"\"\"\n",
    "    # Set model to evaluation mode\n",
    "    model.eval()\n",
    "    summaries = []    # List to store generated summaries\n",
    "    references = []   # List to store actual summaries\n",
    "\n",
    "    # Create a DataLoader for batch processing\n",
    "    dataloader = DataLoader(dataset, batch_size=batch_size)\n",
    "\n",
    "    # Disabled gradient calculations for efficiency\n",
    "    with torch.no_grad():\n",
    "        for i, batch in enumerate(dataloader):\n",
    "            print(f\"Processing {i+1}/{len(dataloader)}\")\n",
    "            # Move input data to the same device as the model\n",
    "            input_ids = batch['input_ids'].to(model.device)\n",
    "            attention_mask = batch['attention_mask'].to(model.device)\n",
    "\n",
    "            # Generate summaries with the model\n",
    "            outputs = model.generate(input_ids, attention_mask=attention_mask, max_length=2048, num_beams=2)\n",
    "            batch_summaries = [tokenizer.decode(ids, skip_special_tokens=True) for ids in outputs]\n",
    "\n",
    "            # Append generated and actual summaries to the respective lists\n",
    "            summaries.extend(batch_summaries)\n",
    "            references.extend(batch['summary'])\n",
    "\n",
    "    return summaries, references\n",
    "\n",
    "# Generate summaries for the validation dataset\n",
    "generated_summaries, actual_summaries = generate_summaries(model, tokenizer, valid_dataset, batch_size=8)\n",
    "\n",
    "# Compute and print the ROUGE score for evaluation\n",
    "rouge_score = rouge.compute(predictions=generated_summaries, references=actual_summaries)\n",
    "print(rouge_score)"
   ]
  },
  {
   "cell_type": "code",
   "execution_count": 19,
   "metadata": {},
   "outputs": [
    {
     "data": {
      "text/html": [
       "\n",
       "    <div>\n",
       "      \n",
       "      <progress value='52' max='52' style='width:300px; height:20px; vertical-align: middle;'></progress>\n",
       "      [52/52 00:07]\n",
       "    </div>\n",
       "    "
      ],
      "text/plain": [
       "<IPython.core.display.HTML object>"
      ]
     },
     "metadata": {},
     "output_type": "display_data"
    },
    {
     "data": {
      "text/plain": [
       "{'eval_loss': 0.09247089177370071,\n",
       " 'eval_runtime': 7.2246,\n",
       " 'eval_samples_per_second': 113.363,\n",
       " 'eval_steps_per_second': 7.198,\n",
       " 'epoch': 10.0}"
      ]
     },
     "execution_count": 19,
     "metadata": {},
     "output_type": "execute_result"
    }
   ],
   "source": [
    "trainer.evaluate()"
   ]
  },
  {
   "cell_type": "code",
   "execution_count": 20,
   "metadata": {},
   "outputs": [],
   "source": [
    "\n",
    "tokenizer.save_pretrained(path+'/bart-base')\n",
    "trainer.create_model_card()\n",
    "\n",
    "# Save the model\n",
    "trainer.save_model(path+\"/bart-base\")\n"
   ]
  },
  {
   "cell_type": "code",
   "execution_count": 22,
   "metadata": {},
   "outputs": [
    {
     "name": "stderr",
     "output_type": "stream",
     "text": [
      "Device set to use cuda:0\n"
     ]
    },
    {
     "name": "stdout",
     "output_type": "stream",
     "text": [
      "Dialogue:\n",
      "Lincoln: Heeyyy ;* whats up\n",
      "Fatima: I talked to Jenson, he’s not too happy ;p\n",
      "Lincoln: the place sucks??\n",
      "Fatima: No, the place is ok, I think, we can go there, it’s about Alene\n",
      "Lincoln: typical, dont worry about it\n",
      "Fatima: He thinks she may have a depression :[\n",
      "Lincoln: nothin new, everyone has it, she needs a doctor then\n",
      "Fatima: But she won’t go ;/\n",
      "Lincoln: so she’s destroying her life fuck it its not your problem\n",
      "Fatima: It is, they’re both my friends!\n",
      "Lincoln: you better think what to do if they break up\n",
      "Fatima: Ehh yes Ill have a problem ;//\n",
      "Lincoln: both blaming each other and talking with you about it, perfect\n",
      "Fatima: Alene is just troubled… She’d been through a lot…\n",
      "Lincoln: everyone has their problems, the question is are ya doin sth about them\n",
      "Fatima: She has problems facing it, don’t be surprised :[\n",
      "Lincoln: then it is her problem\n",
      "Fatima: You are so cruel at times… o.O\n",
      "Lincoln: maybe, for me its just a common sense\n",
      "Fatima: Why can’t everyone be just happy???\n",
      "Lincoln: youll not understand, you had good childhood, nice parents, you have no idea\n",
      "Fatima: Probably, true… Well I can be just grateful o.o\n",
      "Lincoln: do that and stop worrying about others, youre way to bautful for that <3\n",
      "Fatima: :*:*:*\n",
      "---------------\n",
      "Human Summary:\n",
      "Fatima is worried about Jenson and Alene. Alene has issues. Lincoln doesn't want Fatima to worry about others too much.\n",
      "BART Summary:\n",
      "Lincoln and Fatima are going to see Jenson. Jenson thinks Alene may have depression and wants to see a doctor. Fatima's friends Alene and Jenson are both her friends. \n"
     ]
    }
   ],
   "source": [
    "# Load fine-tuned BART model using pipeline\n",
    "summarizer = pipeline(\"summarization\", model=path+'/bart-base')\n",
    "\n",
    "# Pick a random sample from test data\n",
    "sample = test_df.iloc[randrange(len(test_df))]\n",
    "print(f\"Dialogue:\\n{sample['dialogue']}\\n---------------\")\n",
    "print(f\"Human Summary:\\n{sample['summary']}\")\n",
    "\n",
    "# Generate model summary\n",
    "res = summarizer(sample[\"dialogue\"], max_length=200, min_length=20, do_sample=False)\n",
    "print(f\"BART Summary:\\n{res[0]['summary_text']}\")"
   ]
  },
  {
   "cell_type": "code",
   "execution_count": null,
   "metadata": {},
   "outputs": [],
   "source": []
  }
 ],
 "metadata": {
  "colab": {
   "gpuType": "T4",
   "provenance": []
  },
  "kernelspec": {
   "display_name": "Python [conda env:base] *",
   "language": "python",
   "name": "conda-base-py"
  },
  "language_info": {
   "codemirror_mode": {
    "name": "ipython",
    "version": 3
   },
   "file_extension": ".py",
   "mimetype": "text/x-python",
   "name": "python",
   "nbconvert_exporter": "python",
   "pygments_lexer": "ipython3",
   "version": "3.11.5"
  }
 },
 "nbformat": 4,
 "nbformat_minor": 4
}
